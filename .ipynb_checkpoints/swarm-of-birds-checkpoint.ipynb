{
 "cells": [
  {
   "cell_type": "code",
   "execution_count": 1,
   "metadata": {},
   "outputs": [],
   "source": [
    "import numpy as np\n",
    "import pandas as pd\n",
    "import matplotlib.pyplot as plt\n",
    "\n",
    "# Import animation package\n",
    "from matplotlib.animation import FuncAnimation\n",
    "# Change matplotlib backend\n",
    "%matplotlib nbagg\n",
    "\n",
    "# Import slider package\n",
    "from matplotlib.widgets import Slider\n",
    "\n",
    "from tqdm import tqdm"
   ]
  },
  {
   "cell_type": "code",
   "execution_count": 2,
   "metadata": {},
   "outputs": [],
   "source": [
    "#! pip install --upgrade matplotlib"
   ]
  },
  {
   "cell_type": "markdown",
   "metadata": {},
   "source": [
    "(пункция фанка)"
   ]
  },
  {
   "cell_type": "markdown",
   "metadata": {},
   "source": [
    "Рассмотрим рой из $N$ частиц. В $d$-мерном пространстве. Попытаемся смоделировать движение роя птиц.\n",
    "\n",
    "Пусть каждая частица в каждый момент времени будет двигаться по вектору суммы:\n",
    "- своего предыдущего вектора\n",
    "- вектора в сторону центра роя\n",
    "- вектора, параллельного среднему вектору скорости частиц\n",
    "- вектора, параллельного среднему вектору близких к ней частиц (например, $k$ самых близких к ней частиц)\n",
    "\n",
    "Тогда состояние системы задается тензором размера $S_t = Ten(N\\times d\\times 2)$. Где `S[i,:,0]` - вектор координат i-той частицы, а `S[i,:,1]` - вектор скорости i-той частицы в момент времени `t`."
   ]
  },
  {
   "cell_type": "code",
   "execution_count": 3,
   "metadata": {},
   "outputs": [],
   "source": [
    "def run_system(\n",
    "    init_params,\n",
    "    update_params,\n",
    "    init_state,\n",
    "    update_state,\n",
    "    calc_logs,\n",
    "    max_iters\n",
    "):\n",
    "    \n",
    "    state = init_state(**init_params)\n",
    "    log = []\n",
    "    log.append(calc_logs(state))\n",
    "\n",
    "    for i in tqdm(range(max_iters)):\n",
    "        state = update_state(state, update_params)\n",
    "        log.append(calc_logs(state))\n",
    "    return state, log"
   ]
  },
  {
   "cell_type": "code",
   "execution_count": 4,
   "metadata": {},
   "outputs": [
    {
     "data": {
      "text/plain": [
       "(1, 2, 2)"
      ]
     },
     "execution_count": 4,
     "metadata": {},
     "output_type": "execute_result"
    }
   ],
   "source": [
    "a = np.ones((2, 2, 2))\n",
    "a.sum(axis=0, keepdims=True).shape"
   ]
  },
  {
   "cell_type": "code",
   "execution_count": 135,
   "metadata": {},
   "outputs": [],
   "source": [
    "def init_state(N, d):\n",
    "    state = np.random.randn(N, d, 2) \n",
    "    return state\n",
    "\n",
    "def update_state(state, update_params):\n",
    "    state = update_coordinates(state, update_params)\n",
    "    state = update_velocities(state, update_params)\n",
    "    return state\n",
    "\n",
    "def update_coordinates(state, update_params):\n",
    "    time_rate = update_params[\"time_rate\"]\n",
    "    state[:,:,0] += state[:,:,1] * time_rate\n",
    "    return state\n",
    "\n",
    "def update_velocities(state, update_params):\n",
    "    vel_prev_coef = update_params[\"vel_prev_coef\"]\n",
    "    vel_to_center_coef = update_params[\"vel_to_center_coef\"]\n",
    "    vel_average_coef = update_params[\"vel_average_coef\"]\n",
    "    \n",
    "    vel_prev = state[:,:,1]\n",
    "    swarm_center = state[:,:,0].mean(axis=0, keepdims=True)\n",
    "    vel_to_center = swarm_center - state[:,:,0]\n",
    "    vel_average = state[:,:,1].mean(axis=0, keepdims=True)\n",
    "    state[:,:,1] = vel_prev * vel_prev_coef + vel_to_center * vel_to_center_coef + vel_average * vel_average_coef\n",
    "    return state\n",
    "\n",
    "def calc_logs(state):\n",
    "    return dict(\n",
    "        state=np.copy(state),\n",
    "    )\n",
    "\n",
    "def plot_state(state):\n",
    "    plt.quiver(*(state[:,:,0].T), *(state[:,:,1].T))\n",
    "    plt.show()\n",
    "    \n",
    "def plot_dynamics(log, gif_filename='./animation.gif'):\n",
    "\n",
    "    # Animation function\n",
    "    def update_quiver(i, Q, ax, log):\n",
    "        state = log[i][\"state\"]\n",
    "        Q.set_offsets(state[:,:,0])\n",
    "        Q.set_UVC(*(state[:,:,1].T))\n",
    "\n",
    "        ax.set_xlim(state[:,0,0].min() - 5, state[:,0,0].max() + 5)\n",
    "        ax.set_ylim(state[:,1,0].min() - 5, state[:,1,0].max() + 5)\n",
    "        return Q,\n",
    "\n",
    "    # Create figure and add axes\n",
    "    fig = plt.figure(figsize=(6, 4))\n",
    "    ax = fig.add_subplot(111)\n",
    "    ax.grid()\n",
    "    state = log[0][\"state\"]\n",
    "    Q = ax.quiver(*(state[:,:,0].T), *(state[:,:,1].T))\n",
    "\n",
    "    anim = FuncAnimation(fig, update_quiver, fargs=(Q, ax, log), frames=max_iters,\n",
    "                                   interval=10, blit=False)\n",
    "    fig.tight_layout()\n",
    "    #plt.show()\n",
    "\n",
    "    anim.save(gif_filename, writer='imagemagick', fps=10)"
   ]
  },
  {
   "cell_type": "code",
   "execution_count": 131,
   "metadata": {},
   "outputs": [
    {
     "name": "stderr",
     "output_type": "stream",
     "text": [
      "100%|█████████████████████████████████████| 100/100 [00:00<00:00, 17314.66it/s]\n"
     ]
    }
   ],
   "source": [
    "max_iters = 100\n",
    "init_params = dict(N=10, d=2)\n",
    "update_params = dict(time_rate=0.1,vel_prev_coef=0.2,vel_to_center_coef=0.1, vel_average_coef=0.8)\n",
    "state, log = run_system(init_params, update_params, init_state, update_state,\n",
    "    calc_logs, max_iters)"
   ]
  },
  {
   "cell_type": "code",
   "execution_count": 136,
   "metadata": {},
   "outputs": [
    {
     "name": "stderr",
     "output_type": "stream",
     "text": [
      "MovieWriter imagemagick unavailable; using Pillow instead.\n"
     ]
    },
    {
     "data": {
      "image/png": "[encoded data removed]",
      "text/plain": [
       "<Figure size 432x288 with 1 Axes>"
      ]
     },
     "metadata": {
      "needs_background": "light"
     },
     "output_type": "display_data"
    }
   ],
   "source": [
    "plot_dynamics(log)"
   ]
  },
  {
   "cell_type": "code",
   "execution_count": 137,
   "metadata": {},
   "outputs": [
    {
     "data": {
      "image/png": "[encoded data removed]",
      "text/plain": [
       "<Figure size 432x288 with 1 Axes>"
      ]
     },
     "metadata": {
      "needs_background": "light"
     },
     "output_type": "display_data"
    },
    {
     "name": "stderr",
     "output_type": "stream",
     "text": [
      "MovieWriter imagemagick unavailable; using Pillow instead.\n"
     ]
    }
   ],
   "source": [
    "# Plotting dynamics\n",
    "\n",
    "# Animation function\n",
    "def update_quiver(i, Q, ax, log):\n",
    "    state = log[i][\"state\"]\n",
    "    Q.set_offsets(state[:,:,0])\n",
    "    Q.set_UVC(*(state[:,:,1].T))\n",
    "    \n",
    "    ax.set_xlim(state[:,0,0].min() - 5, state[:,0,0].max() + 5)\n",
    "    ax.set_ylim(state[:,1,0].min() - 5, state[:,1,0].max() + 5)\n",
    "    return Q,\n",
    "    \n",
    "# Create figure and add axes\n",
    "fig = plt.figure(figsize=(6, 4))\n",
    "ax = fig.add_subplot(111)\n",
    "ax.grid()\n",
    "state = log[0][\"state\"]\n",
    "Q = ax.quiver(*(state[:,:,0].T), *(state[:,:,1].T))\n",
    "\n",
    "anim = FuncAnimation(fig, update_quiver, fargs=(Q, ax, log), frames=max_iters,\n",
    "                               interval=10, blit=False)\n",
    "fig.tight_layout()\n",
    "plt.show()\n",
    "\n",
    "anim.save('./gifs/nonlocal-velocity-update.gif', writer='imagemagick', fps=10)"
   ]
  },
  {
   "cell_type": "markdown",
   "metadata": {},
   "source": [
    "Ну что ж, как мы выяснили, без учета локальности самоорганизации не возникает. В целом, оно и неудивительно. Значит, в следующих сериях надо бы и это учесть.\n",
    "\n",
    "Я рад, что научился анимировать динамику. Это будет мне полезно."
   ]
  },
  {
   "cell_type": "code",
   "execution_count": null,
   "metadata": {},
   "outputs": [],
   "source": []
  }
 ],
 "metadata": {
  "kernelspec": {
   "display_name": "Python 3",
   "language": "python",
   "name": "python3"
  },
  "language_info": {
   "codemirror_mode": {
    "name": "ipython",
    "version": 3
   },
   "file_extension": ".py",
   "mimetype": "text/x-python",
   "name": "python",
   "nbconvert_exporter": "python",
   "pygments_lexer": "ipython3",
   "version": "3.7.3"
  }
 },
 "nbformat": 4,
 "nbformat_minor": 4
}
